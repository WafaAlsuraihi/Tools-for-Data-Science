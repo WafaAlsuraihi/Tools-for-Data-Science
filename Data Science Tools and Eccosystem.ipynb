{
 "cells": [
  {
   "cell_type": "markdown",
   "id": "44457161-8d3c-49b3-b397-f39c2068a98e",
   "metadata": {
    "panel-layout": {
     "height": 51.076393127441406,
     "visible": true,
     "width": 100
    }
   },
   "source": [
    "# Data Science tools and Ecosystem"
   ]
  },
  {
   "cell_type": "markdown",
   "id": "10849b75-d65e-47e4-b1fe-884cd78f1c8c",
   "metadata": {},
   "source": [
    "# Objectives:\n",
    "•\tList popular languages for Data Science.\n",
    "•\tList popular libraries for Data Science.\n",
    "•\tEvaluate arithmetic expressions in Python.\n"
   ]
  },
  {
   "cell_type": "markdown",
   "id": "919eb25f-070f-48af-91cf-a33590cfb660",
   "metadata": {
    "panel-layout": {
     "height": 51.076393127441406,
     "visible": true,
     "width": 100
    }
   },
   "source": [
    "#In this notebook, Data Science Tools and Ecosystem are summarized."
   ]
  },
  {
   "cell_type": "markdown",
   "id": "0f493d54-d232-42d0-be9c-b5dd9369538d",
   "metadata": {},
   "source": [
    "#Some of the popular languages that Data Scientists use are: \n",
    "1- Python. \n",
    "2- R.\n",
    "3- Julia.\n",
    "4- Scala"
   ]
  },
  {
   "cell_type": "markdown",
   "id": "3ec33e9b-d463-406c-8306-2dcb9ff37182",
   "metadata": {},
   "source": [
    "#Some of the commonly used libraries used by Data Scientists include: panda, numpy, matplotlib"
   ]
  },
  {
   "cell_type": "markdown",
   "id": "047fe640-70d4-4ef0-8e18-a7400a9c3f10",
   "metadata": {},
   "source": [
    "| Data Science Tools |\n",
    "|--------------------|\n",
    "| Jupyter Notebook  |\n",
    "| RStudio           |\n",
    "| Apache Zeppelin   |"
   ]
  },
  {
   "cell_type": "markdown",
   "id": "debe94e3-f9fc-4787-ac90-bdc99f55e603",
   "metadata": {},
   "source": [
    "### Below are a few examples of evaluating arithmetic expressions in Python"
   ]
  },
  {
   "cell_type": "code",
   "execution_count": 33,
   "id": "9fe45f97-effb-43e8-9dd0-eb8ea9d583e2",
   "metadata": {},
   "outputs": [
    {
     "data": {
      "text/plain": [
       "17"
      ]
     },
     "execution_count": 33,
     "metadata": {},
     "output_type": "execute_result"
    }
   ],
   "source": [
    "# This a simple arithmetic expression to mutiply then add integers\n",
    "(3*4)+5"
   ]
  },
  {
   "cell_type": "code",
   "execution_count": 35,
   "id": "3a2d65a6-91f6-4c71-a556-17ed8b10b434",
   "metadata": {},
   "outputs": [
    {
     "data": {
      "text/plain": [
       "3.3333333333333335"
      ]
     },
     "execution_count": 35,
     "metadata": {},
     "output_type": "execute_result"
    }
   ],
   "source": [
    "# This will convert 200 minutes to hours by diving by 60\n",
    "200 / 60"
   ]
  },
  {
   "cell_type": "markdown",
   "id": "e2f9ef3d-963b-4870-9e23-7921394c79ae",
   "metadata": {},
   "source": [
    "## Author\n",
    "Wafa Alsuraihi"
   ]
  },
  {
   "cell_type": "code",
   "execution_count": null,
   "id": "f0e467fb-9ded-49dc-bb6d-407c6b98f400",
   "metadata": {},
   "outputs": [],
   "source": []
  }
 ],
 "metadata": {
  "kernelspec": {
   "display_name": "Python [conda env:base] *",
   "language": "python",
   "name": "conda-base-py"
  },
  "language_info": {
   "codemirror_mode": {
    "name": "ipython",
    "version": 3
   },
   "file_extension": ".py",
   "mimetype": "text/x-python",
   "name": "python",
   "nbconvert_exporter": "python",
   "pygments_lexer": "ipython3",
   "version": "3.12.7"
  },
  "panel-cell-order": [
   "44457161-8d3c-49b3-b397-f39c2068a98e",
   "919eb25f-070f-48af-91cf-a33590cfb660",
   "a9157490-ed4b-466b-b75d-eabd2700e0d4"
  ]
 },
 "nbformat": 4,
 "nbformat_minor": 5
}
